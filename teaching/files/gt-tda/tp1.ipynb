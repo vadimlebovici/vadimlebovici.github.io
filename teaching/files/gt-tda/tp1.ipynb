{
 "cells": [
  {
   "cell_type": "markdown",
   "id": "e48af685",
   "metadata": {},
   "source": [
    "# Computing persistence barcodes in practice\n",
    "## Introduction\n",
    "In this tutorial, we will explore how to use the [Gudhi](https://gudhi.inria.fr/) library to compute persistence barcodes from point cloud data. Gudhi is a powerful Python library for Topological Data Analysis (TDA), providing efficient implementations of various simplicial complexes and persistent homology algorithms. We will demonstrate how to construct Vietoris-Rips and Alpha complexes from a simple point cloud, and how to extract and interpret their persistence barcodes, which capture the topological features of the data across multiple scales."
   ]
  },
  {
   "cell_type": "markdown",
   "id": "0e1fbedf",
   "metadata": {},
   "source": [
    "# Installation"
   ]
  },
  {
   "cell_type": "code",
   "execution_count": 1,
   "id": "1a77cdf5",
   "metadata": {},
   "outputs": [
    {
     "name": "stdout",
     "output_type": "stream",
     "text": [
      "Collecting gudhi\n",
      "  Downloading gudhi-3.11.0-cp311-cp311-manylinux_2_28_x86_64.whl.metadata (1.6 kB)\n",
      "Collecting numpy>=1.15.0 (from gudhi)\n",
      "  Downloading numpy-2.2.5-cp311-cp311-manylinux_2_17_x86_64.manylinux2014_x86_64.whl.metadata (62 kB)\n",
      "Downloading gudhi-3.11.0-cp311-cp311-manylinux_2_28_x86_64.whl (4.2 MB)\n",
      "\u001b[2K   \u001b[90m━━━━━━━━━━━━━━━━━━━━━━━━━━━━━━━━━━━━━━━━\u001b[0m \u001b[32m4.2/4.2 MB\u001b[0m \u001b[31m23.5 MB/s\u001b[0m eta \u001b[36m0:00:00\u001b[0m\n",
      "\u001b[?25hDownloading numpy-2.2.5-cp311-cp311-manylinux_2_17_x86_64.manylinux2014_x86_64.whl (16.4 MB)\n",
      "\u001b[2K   \u001b[90m━━━━━━━━━━━━━━━━━━━━━━━━━━━━━━━━━━━━━━━━\u001b[0m \u001b[32m16.4/16.4 MB\u001b[0m \u001b[31m46.0 MB/s\u001b[0m eta \u001b[36m0:00:00\u001b[0m00:01\u001b[0m\n",
      "\u001b[?25hInstalling collected packages: numpy, gudhi\n",
      "\u001b[2K   \u001b[90m━━━━━━━━━━━━━━━━━━━━━━━━━━━━━━━━━━━━━━━━\u001b[0m \u001b[32m2/2\u001b[0m [gudhi]32m1/2\u001b[0m [gudhi]\n",
      "\u001b[1A\u001b[2KSuccessfully installed gudhi-3.11.0 numpy-2.2.5\n",
      "Note: you may need to restart the kernel to use updated packages.\n"
     ]
    }
   ],
   "source": [
    "pip install gudhi"
   ]
  },
  {
   "cell_type": "markdown",
   "id": "440a3bc8",
   "metadata": {},
   "source": [
    "## An example of point cloud"
   ]
  },
  {
   "cell_type": "code",
   "execution_count": 8,
   "id": "f68b9271",
   "metadata": {},
   "outputs": [
    {
     "name": "stdout",
     "output_type": "stream",
     "text": [
      "Collecting matplotlib\n",
      "  Downloading matplotlib-3.10.1-cp311-cp311-manylinux_2_17_x86_64.manylinux2014_x86_64.whl.metadata (11 kB)\n",
      "Collecting contourpy>=1.0.1 (from matplotlib)\n",
      "  Downloading contourpy-1.3.2-cp311-cp311-manylinux_2_17_x86_64.manylinux2014_x86_64.whl.metadata (5.5 kB)\n",
      "Collecting cycler>=0.10 (from matplotlib)\n",
      "  Using cached cycler-0.12.1-py3-none-any.whl.metadata (3.8 kB)\n",
      "Collecting fonttools>=4.22.0 (from matplotlib)\n",
      "  Downloading fonttools-4.57.0-cp311-cp311-manylinux_2_17_x86_64.manylinux2014_x86_64.whl.metadata (102 kB)\n",
      "Collecting kiwisolver>=1.3.1 (from matplotlib)\n",
      "  Downloading kiwisolver-1.4.8-cp311-cp311-manylinux_2_17_x86_64.manylinux2014_x86_64.whl.metadata (6.2 kB)\n",
      "Requirement already satisfied: numpy>=1.23 in /users/lebovici/Documents/Enseignement/M1-GT-TDA/tps/.venv/lib/python3.11/site-packages (from matplotlib) (2.2.5)\n",
      "Requirement already satisfied: packaging>=20.0 in /users/lebovici/Documents/Enseignement/M1-GT-TDA/tps/.venv/lib/python3.11/site-packages (from matplotlib) (25.0)\n",
      "Collecting pillow>=8 (from matplotlib)\n",
      "  Downloading pillow-11.2.1-cp311-cp311-manylinux_2_28_x86_64.whl.metadata (8.9 kB)\n",
      "Collecting pyparsing>=2.3.1 (from matplotlib)\n",
      "  Downloading pyparsing-3.2.3-py3-none-any.whl.metadata (5.0 kB)\n",
      "Requirement already satisfied: python-dateutil>=2.7 in /users/lebovici/Documents/Enseignement/M1-GT-TDA/tps/.venv/lib/python3.11/site-packages (from matplotlib) (2.9.0.post0)\n",
      "Requirement already satisfied: six>=1.5 in /users/lebovici/Documents/Enseignement/M1-GT-TDA/tps/.venv/lib/python3.11/site-packages (from python-dateutil>=2.7->matplotlib) (1.17.0)\n",
      "Downloading matplotlib-3.10.1-cp311-cp311-manylinux_2_17_x86_64.manylinux2014_x86_64.whl (8.6 MB)\n",
      "\u001b[2K   \u001b[90m━━━━━━━━━━━━━━━━━━━━━━━━━━━━━━━━━━━━━━━━\u001b[0m \u001b[32m8.6/8.6 MB\u001b[0m \u001b[31m38.2 MB/s\u001b[0m eta \u001b[36m0:00:00\u001b[0m00:01\u001b[0m\n",
      "\u001b[?25hDownloading contourpy-1.3.2-cp311-cp311-manylinux_2_17_x86_64.manylinux2014_x86_64.whl (326 kB)\n",
      "Using cached cycler-0.12.1-py3-none-any.whl (8.3 kB)\n",
      "Downloading fonttools-4.57.0-cp311-cp311-manylinux_2_17_x86_64.manylinux2014_x86_64.whl (4.9 MB)\n",
      "\u001b[2K   \u001b[90m━━━━━━━━━━━━━━━━━━━━━━━━━━━━━━━━━━━━━━━━\u001b[0m \u001b[32m4.9/4.9 MB\u001b[0m \u001b[31m31.0 MB/s\u001b[0m eta \u001b[36m0:00:00\u001b[0m\n",
      "\u001b[?25hDownloading kiwisolver-1.4.8-cp311-cp311-manylinux_2_17_x86_64.manylinux2014_x86_64.whl (1.4 MB)\n",
      "\u001b[2K   \u001b[90m━━━━━━━━━━━━━━━━━━━━━━━━━━━━━━━━━━━━━━━━\u001b[0m \u001b[32m1.4/1.4 MB\u001b[0m \u001b[31m23.0 MB/s\u001b[0m eta \u001b[36m0:00:00\u001b[0m\n",
      "\u001b[?25hDownloading pillow-11.2.1-cp311-cp311-manylinux_2_28_x86_64.whl (4.6 MB)\n",
      "\u001b[2K   \u001b[90m━━━━━━━━━━━━━━━━━━━━━━━━━━━━━━━━━━━━━━━━\u001b[0m \u001b[32m4.6/4.6 MB\u001b[0m \u001b[31m30.3 MB/s\u001b[0m eta \u001b[36m0:00:00\u001b[0m\n",
      "\u001b[?25hDownloading pyparsing-3.2.3-py3-none-any.whl (111 kB)\n",
      "Installing collected packages: pyparsing, pillow, kiwisolver, fonttools, cycler, contourpy, matplotlib\n",
      "\u001b[2K   \u001b[90m━━━━━━━━━━━━━━━━━━━━━━━━━━━━━━━━━━━━━━━━\u001b[0m \u001b[32m7/7\u001b[0m [matplotlib]7\u001b[0m [matplotlib]\n",
      "\u001b[1A\u001b[2KSuccessfully installed contourpy-1.3.2 cycler-0.12.1 fonttools-4.57.0 kiwisolver-1.4.8 matplotlib-3.10.1 pillow-11.2.1 pyparsing-3.2.3\n",
      "Note: you may need to restart the kernel to use updated packages.\n"
     ]
    }
   ],
   "source": [
    "pip install matplotlib"
   ]
  },
  {
   "cell_type": "code",
   "execution_count": 6,
   "id": "758b88a4",
   "metadata": {},
   "outputs": [],
   "source": [
    "# Generate 100 random points in the unit square\n",
    "random_points = np.random.uniform(0, 1, size=(100, 2))"
   ]
  },
  {
   "cell_type": "code",
   "execution_count": null,
   "id": "b8792c81",
   "metadata": {},
   "outputs": [
    {
     "data": {
      "image/png": "[encoded data removed]",
      "text/plain": [
       "<Figure size 600x600 with 1 Axes>"
      ]
     },
     "metadata": {},
     "output_type": "display_data"
    }
   ],
   "source": [
    "import matplotlib.pyplot as plt\n",
    "\n",
    "# Plot the point cloud\n",
    "plt.figure(figsize=(6, 6))\n",
    "plt.scatter(random_points[:, 0], random_points[:, 1], c='blue', alpha=0.6)\n",
    "plt.title(\"100 points uniformly sampled in the unit square\")\n",
    "plt.show()"
   ]
  },
  {
   "cell_type": "markdown",
   "id": "a6809c5b",
   "metadata": {},
   "source": [
    "## Vietoris-Rips filtration"
   ]
  },
  {
   "cell_type": "markdown",
   "id": "8ec833e7",
   "metadata": {},
   "source": [
    "### Small example"
   ]
  },
  {
   "cell_type": "code",
   "execution_count": null,
   "id": "f295021d",
   "metadata": {},
   "outputs": [],
   "source": [
    "import numpy as np\n",
    "\n",
    "X = np.array([[0, 0], [1, 0], [0, 1], [1, 1]])"
   ]
  },
  {
   "cell_type": "code",
   "execution_count": 12,
   "id": "7cfc6ae7",
   "metadata": {},
   "outputs": [
    {
     "data": {
      "image/png": "[encoded data removed]",
      "text/plain": [
       "<Figure size 500x500 with 1 Axes>"
      ]
     },
     "metadata": {},
     "output_type": "display_data"
    }
   ],
   "source": [
    "plt.figure(figsize=(5, 5))\n",
    "plt.scatter(X[:, 0], X[:, 1], c='red', s=60)\n",
    "plt.title(\"Point cloud X\")\n",
    "plt.show()"
   ]
  },
  {
   "cell_type": "code",
   "execution_count": null,
   "id": "f8fad1a7",
   "metadata": {},
   "outputs": [],
   "source": [
    "import gudhi as gd"
   ]
  },
  {
   "cell_type": "code",
   "execution_count": 4,
   "id": "f591811c",
   "metadata": {},
   "outputs": [
    {
     "name": "stdout",
     "output_type": "stream",
     "text": [
      "Vietoris-Rips Complex:\n",
      "([0, 1, 2], 1.4142135623730951)\n",
      "([0, 1, 3], 1.4142135623730951)\n",
      "([0, 1], 1.0)\n",
      "([0, 2, 3], 1.4142135623730951)\n",
      "([0, 2], 1.0)\n",
      "([0, 3], 1.4142135623730951)\n",
      "([0], 0.0)\n",
      "([1, 2, 3], 1.4142135623730951)\n",
      "([1, 2], 1.4142135623730951)\n",
      "([1, 3], 1.0)\n",
      "([1], 0.0)\n",
      "([2, 3], 1.0)\n",
      "([2], 0.0)\n",
      "([3], 0.0)\n",
      "\n",
      "Alpha Complex:\n",
      "([0, 1, 2], 0.5)\n",
      "([0, 1], 0.25)\n",
      "([0, 2], 0.25)\n",
      "([0], 0.0)\n",
      "([1, 2, 3], 0.5)\n",
      "([1, 2], 0.5)\n",
      "([1, 3], 0.25)\n",
      "([1], 0.0)\n",
      "([2, 3], 0.25)\n",
      "([2], 0.0)\n",
      "([3], 0.0)\n"
     ]
    }
   ],
   "source": [
    "# Vietoris-Rips Complex Example\n",
    "# Construct a Vietoris-Rips complex from the point cloud X\n",
    "rips_complex = gd.RipsComplex(points=X, max_edge_length=2.0)\n",
    "simplex_tree = rips_complex.create_simplex_tree(max_dimension=2)\n",
    "\n",
    "print(\"Vietoris-Rips Complex:\")\n",
    "for simplex in simplex_tree.get_simplices():\n",
    "    print(simplex)\n",
    "\n",
    "# Alpha Complex Example\n",
    "# Construct an Alpha complex from the same point cloud X\n",
    "alpha_complex = gd.AlphaComplex(points=X)\n",
    "alpha_simplex_tree = alpha_complex.create_simplex_tree()\n",
    "\n",
    "print(\"\\nAlpha Complex:\")\n",
    "for simplex in alpha_simplex_tree.get_simplices():\n",
    "    print(simplex)"
   ]
  },
  {
   "cell_type": "markdown",
   "id": "dcb7e6d5",
   "metadata": {},
   "source": [
    "### Challenge\n",
    "1. Compute the Vietoris-Rips filtration of 1000 points uniformly sampled on the unit square of $\\R^2$.\n",
    "2. Compute the persistence barcodes of this filtration and plot it as a persistence diagram.\n",
    "3. Interpret what you see."
   ]
  },
  {
   "cell_type": "markdown",
   "id": "8561b303",
   "metadata": {},
   "source": [
    "### Challenge\n",
    "1. Compute the Vietoris-Rips filtration of uniformly sampled on the unit circle of $\\R^2$.\n",
    "2. Compute the persistence diagram of this filtration.\n",
    "3. Add noise to it, and interpret what you see."
   ]
  },
  {
   "cell_type": "markdown",
   "id": "8d067fbc",
   "metadata": {},
   "source": [
    "## Challenge 1"
   ]
  }
 ],
 "metadata": {
  "kernelspec": {
   "display_name": ".venv",
   "language": "python",
   "name": "python3"
  },
  "language_info": {
   "codemirror_mode": {
    "name": "ipython",
    "version": 3
   },
   "file_extension": ".py",
   "mimetype": "text/x-python",
   "name": "python",
   "nbconvert_exporter": "python",
   "pygments_lexer": "ipython3",
   "version": "3.11.2"
  }
 },
 "nbformat": 4,
 "nbformat_minor": 5
}
